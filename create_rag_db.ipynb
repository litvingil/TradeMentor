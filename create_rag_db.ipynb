{
 "cells": [
  {
   "cell_type": "code",
   "execution_count": 1,
   "metadata": {},
   "outputs": [],
   "source": [
    "from pypdf import PdfReader\n",
    "\n",
    "reader = PdfReader(\"Market_Timing_with_Moving_Averages.pdf\")\n",
    "number_of_pages = len(reader.pages)\n",
    "full_text = \"\"\n",
    "for i in range(number_of_pages):\n",
    "    if i >=1 and i<=13:\n",
    "        page = reader.pages[i]\n",
    "        text = page.extract_text()\n",
    "        full_text += text"
   ]
  },
  {
   "cell_type": "code",
   "execution_count": 7,
   "metadata": {},
   "outputs": [
    {
     "name": "stderr",
     "output_type": "stream",
     "text": [
      "[nltk_data] Downloading package punkt to /Users/gil/nltk_data...\n",
      "[nltk_data]   Package punkt is already up-to-date!\n"
     ]
    }
   ],
   "source": [
    "import nltk\n",
    "nltk.download('punkt')\n",
    "\n",
    "# Splitting Text into Sentences\n",
    "def split_text_into_sentences(text):\n",
    "    sentences = nltk.sent_tokenize(text)\n",
    "    return sentences\n",
    "\n",
    "sentences = split_text_into_sentences(full_text)"
   ]
  },
  {
   "cell_type": "code",
   "execution_count": 16,
   "metadata": {},
   "outputs": [
    {
     "name": "stderr",
     "output_type": "stream",
     "text": [
      "100%|██████████| 180/180 [00:52<00:00,  3.40it/s]\n"
     ]
    }
   ],
   "source": [
    "import gpt\n",
    "from tqdm import tqdm\n",
    "model = gpt.chatgpt()\n",
    "\n",
    "embeddings = []\n",
    "for sentence in tqdm(sentences):\n",
    "    response = model.get_embeddings(sentence)\n",
    "    embeddings.append(response)\n"
   ]
  },
  {
   "cell_type": "code",
   "execution_count": 17,
   "metadata": {},
   "outputs": [],
   "source": [
    "import pandas as pd\n",
    "import numpy as np\n",
    "\n",
    "# Create a DataFrame from the embeddings\n",
    "df = pd.DataFrame({\n",
    "    'sentences': sentences,\n",
    "    'embeddings': embeddings\n",
    "})\n",
    "\n",
    "df.to_csv('embeddings.csv', index=False)"
   ]
  },
  {
   "cell_type": "code",
   "execution_count": 23,
   "metadata": {},
   "outputs": [],
   "source": [
    "query = \"What is the best moving average to use for market timing?\"\n",
    "query_embedding = model.get_embeddings(query)"
   ]
  },
  {
   "cell_type": "code",
   "execution_count": 24,
   "metadata": {},
   "outputs": [],
   "source": [
    "best_idx = df['embeddings'].map(\n",
    "    lambda emb: np.dot(emb, query_embedding) / (\n",
    "        np.linalg.norm(emb) * np.linalg.norm(query_embedding)\n",
    "    )\n",
    ").argmax()\n",
    "\n",
    "best_paragraph = df.iloc[best_idx]['sentences']"
   ]
  },
  {
   "cell_type": "code",
   "execution_count": 28,
   "metadata": {},
   "outputs": [
    {
     "data": {
      "text/plain": [
       "179    As market timing with MA r ules works better i...\n",
       "5      Keywords: Market timing, Moving averages, Risk...\n",
       "0      2 \\n  \\n \\nAbstract \\n \\nConsider using the si...\n",
       "146    These results indicate that a macro market tim...\n",
       "112    Thus, the trading \\nrule provides a market tim...\n",
       "Name: sentences, dtype: object"
      ]
     },
     "execution_count": 28,
     "metadata": {},
     "output_type": "execute_result"
    }
   ],
   "source": [
    "best_paragraphs"
   ]
  },
  {
   "cell_type": "code",
   "execution_count": 1,
   "metadata": {},
   "outputs": [
    {
     "data": {
      "text/plain": [
       "'The best moving average to use for market timing is the 200-day simple moving average. This approach reduces volatility and can increase average annualized returns. It is particularly effective in longer stochastic trends.'"
      ]
     },
     "execution_count": 1,
     "metadata": {},
     "output_type": "execute_result"
    }
   ],
   "source": [
    "import gpt\n",
    "\n",
    "model = gpt.chatgpt()\n",
    "\n",
    "query = \"What is the best moving average to use for market timing?\"\n",
    "# model.rag_search(query)\n",
    "model.rag_q(query)"
   ]
  },
  {
   "cell_type": "code",
   "execution_count": 1,
   "metadata": {},
   "outputs": [
    {
     "name": "stdout",
     "output_type": "stream",
     "text": [
      "                                value\n",
      "Datetime                             \n",
      "2023-12-15 09:30:00-05:00  198.029999\n",
      "2023-12-15 10:30:00-05:00  197.625000\n",
      "2023-12-15 11:30:00-05:00  197.729996\n",
      "2023-12-15 12:30:00-05:00  197.375000\n",
      "2023-12-15 13:30:00-05:00  197.270004\n",
      "...                               ...\n",
      "2024-06-14 11:30:00-04:00  211.750000\n",
      "2024-06-14 12:30:00-04:00  211.779999\n",
      "2024-06-14 13:30:00-04:00  212.225006\n",
      "2024-06-14 14:30:00-04:00  212.380005\n",
      "2024-06-14 15:30:00-04:00  212.490005\n",
      "\n",
      "[875 rows x 1 columns]\n"
     ]
    }
   ],
   "source": [
    "import utils\n",
    "\n",
    "print(utils.get_data())"
   ]
  },
  {
   "cell_type": "code",
   "execution_count": null,
   "metadata": {},
   "outputs": [],
   "source": []
  }
 ],
 "metadata": {
  "kernelspec": {
   "display_name": "anat_env",
   "language": "python",
   "name": "python3"
  },
  "language_info": {
   "codemirror_mode": {
    "name": "ipython",
    "version": 3
   },
   "file_extension": ".py",
   "mimetype": "text/x-python",
   "name": "python",
   "nbconvert_exporter": "python",
   "pygments_lexer": "ipython3",
   "version": "3.9.-1"
  }
 },
 "nbformat": 4,
 "nbformat_minor": 2
}
